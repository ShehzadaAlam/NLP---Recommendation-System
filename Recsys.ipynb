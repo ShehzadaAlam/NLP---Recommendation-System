{
 "cells": [
  {
   "cell_type": "markdown",
   "metadata": {},
   "source": [
    "## Recommendation System\n",
    "----"
   ]
  },
  {
   "cell_type": "markdown",
   "metadata": {},
   "source": [
    "#### Loading Packages and Dependencies"
   ]
  },
  {
   "cell_type": "code",
   "execution_count": 81,
   "metadata": {},
   "outputs": [],
   "source": [
    "import pandas as pd\n",
    "import numpy as np\n",
    "import nltk\n",
    "import warnings\n",
    "from rake_nltk import Rake\n",
    "from textacy import preprocessing\n",
    "from sklearn.feature_extraction.text import CountVectorizer\n",
    "from sklearn.metrics.pairwise import cosine_similarity\n",
    "warnings.simplefilter('ignore')\n",
    "sns.set_style('whitegrid')"
   ]
  },
  {
   "cell_type": "markdown",
   "metadata": {},
   "source": [
    "#### Preprocessing Dataset"
   ]
  },
  {
   "cell_type": "code",
   "execution_count": 82,
   "metadata": {},
   "outputs": [],
   "source": [
    "dataset = pd.read_csv('https://query.data.world/s/uikepcpffyo2nhig52xxeevdialfl7') #Loading the dataset\n",
    "dataset = dataset[['Title', 'Genre','Director', 'Writer', 'Actors', 'Plot']] #Selecting only the columns which contain text\n",
    "dataset.dropna(inplace=True) #Dropping all null values \n",
    "dataset.set_index('Title', inplace=True) #Setting up index as title\n",
    "for columns in dataset.columns:\n",
    "    dataset[columns] = dataset[columns].str.lower() # converting entire dataframe to lowercase\n",
    "    dataset[columns] = dataset[columns].apply(lambda x: preprocessing.remove.remove_punctuation(x)) # removing punctuations\n",
    "    dataset[columns] = dataset[columns] + ' '"
   ]
  },
  {
   "cell_type": "markdown",
   "metadata": {},
   "source": [
    "#### Getting Description Keywords"
   ]
  },
  {
   "cell_type": "code",
   "execution_count": 83,
   "metadata": {},
   "outputs": [],
   "source": [
    "def get_word_dict(text):\n",
    "    r=Rake()\n",
    "    r.extract_keywords_from_text(text)\n",
    "    return ' '.join(r.get_word_degrees().keys())\n",
    "\n",
    "dataset['Description Keywords'] = dataset.sum(axis=1) #Concatenating entire dataset into one column \n",
    "dataset.drop(columns=dataset.columns[dataset.columns != 'Description Keywords'], inplace=True) # Dropping rest of the columns\n",
    "dataset['Description Keywords'] = dataset['Description Keywords'].apply(lambda x: get_word_dict(x)) #Extracting the keywords"
   ]
  },
  {
   "cell_type": "markdown",
   "metadata": {},
   "source": [
    "#### Creating Cosine Matrix"
   ]
  },
  {
   "cell_type": "code",
   "execution_count": 84,
   "metadata": {},
   "outputs": [],
   "source": [
    "count_vect = CountVectorizer(ngram_range=(1,3),stop_words=nltk.corpus.stopwords.words('English'),lowercase=True) #creating BOW\n",
    "count_mat = count_vect.fit_transform(dataset['Description Keywords'])\n",
    "cosine_matrix = cosine_similarity(count_mat,count_mat)"
   ]
  },
  {
   "cell_type": "markdown",
   "metadata": {},
   "source": [
    "#### Create Movie Recomendation"
   ]
  },
  {
   "cell_type": "code",
   "execution_count": 85,
   "metadata": {},
   "outputs": [],
   "source": [
    "def Movie_recommendation(movie):\n",
    "    try:\n",
    "        movie_title = pd.Series(dataset.index)\n",
    "        ind = movie_title[movie_title==movie.title()].index[0]\n",
    "        print(\"you've Entered:\",movie)\n",
    "        print()\n",
    "        print('Recommendation:')\n",
    "        for movie_ind in list(pd.Series(cosine_matrix[ind]).sort_values(ascending=False).head(6).index[1:]):\n",
    "            print(movie_title[movie_ind])\n",
    "    except:\n",
    "        print('Sorry, movie not found')"
   ]
  },
  {
   "cell_type": "markdown",
   "metadata": {},
   "source": [
    "#### Generating Recommendation"
   ]
  },
  {
   "cell_type": "code",
   "execution_count": 99,
   "metadata": {},
   "outputs": [
    {
     "name": "stdout",
     "output_type": "stream",
     "text": [
      "you've Entered: The Matrix\n",
      "\n",
      "Recommendation:\n",
      "The Terminator\n",
      "V for Vendetta\n",
      "Memento\n",
      "Terminator 2: Judgment Day\n",
      "The Avengers\n"
     ]
    }
   ],
   "source": [
    "Movie_recommendation('The Matrix')"
   ]
  },
  {
   "cell_type": "code",
   "execution_count": null,
   "metadata": {},
   "outputs": [],
   "source": []
  }
 ],
 "metadata": {
  "kernelspec": {
   "display_name": "Python 3",
   "language": "python",
   "name": "python3"
  },
  "language_info": {
   "codemirror_mode": {
    "name": "ipython",
    "version": 3
   },
   "file_extension": ".py",
   "mimetype": "text/x-python",
   "name": "python",
   "nbconvert_exporter": "python",
   "pygments_lexer": "ipython3",
   "version": "3.7.5"
  }
 },
 "nbformat": 4,
 "nbformat_minor": 4
}
