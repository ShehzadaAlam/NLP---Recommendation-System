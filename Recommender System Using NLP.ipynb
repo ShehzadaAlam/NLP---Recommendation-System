{
 "cells": [
  {
   "cell_type": "markdown",
   "metadata": {},
   "source": [
    "## Recommendation System Using NLP"
   ]
  },
  {
   "cell_type": "code",
   "execution_count": 236,
   "metadata": {},
   "outputs": [],
   "source": [
    "import pandas as pd\n",
    "import numpy as np\n",
    "import matplotlib.pyplot as plt\n",
    "import seaborn as sns\n",
    "import nltk, string\n",
    "from pprint import pprint\n",
    "\n",
    "from nltk.corpus import stopwords\n",
    "from rake_nltk import Rake\n",
    "from sklearn.metrics.pairwise import cosine_similarity\n",
    "from sklearn.feature_extraction.text import CountVectorizer\n",
    "import warnings\n",
    "warnings.filterwarnings('ignore')"
   ]
  },
  {
   "cell_type": "code",
   "execution_count": 237,
   "metadata": {},
   "outputs": [],
   "source": [
    "#Loading the dataset\n",
    "dataset = pd.read_csv('https://query.data.world/s/uikepcpffyo2nhig52xxeevdialfl7')"
   ]
  },
  {
   "cell_type": "code",
   "execution_count": 238,
   "metadata": {},
   "outputs": [],
   "source": [
    "#Extracting Title, Genre, Director, 'Actor',Plot\n",
    "dataset = dataset[['Title','Genre','Director','Actors','Plot']]"
   ]
  },
  {
   "cell_type": "code",
   "execution_count": 239,
   "metadata": {},
   "outputs": [
    {
     "name": "stdout",
     "output_type": "stream",
     "text": [
      "Dataset Dimension: (250, 5)\n"
     ]
    },
    {
     "data": {
      "text/html": [
       "<div>\n",
       "<style scoped>\n",
       "    .dataframe tbody tr th:only-of-type {\n",
       "        vertical-align: middle;\n",
       "    }\n",
       "\n",
       "    .dataframe tbody tr th {\n",
       "        vertical-align: top;\n",
       "    }\n",
       "\n",
       "    .dataframe thead th {\n",
       "        text-align: right;\n",
       "    }\n",
       "</style>\n",
       "<table border=\"1\" class=\"dataframe\">\n",
       "  <thead>\n",
       "    <tr style=\"text-align: right;\">\n",
       "      <th></th>\n",
       "      <th>Title</th>\n",
       "      <th>Genre</th>\n",
       "      <th>Director</th>\n",
       "      <th>Actors</th>\n",
       "      <th>Plot</th>\n",
       "    </tr>\n",
       "  </thead>\n",
       "  <tbody>\n",
       "    <tr>\n",
       "      <td>0</td>\n",
       "      <td>The Shawshank Redemption</td>\n",
       "      <td>Crime, Drama</td>\n",
       "      <td>Frank Darabont</td>\n",
       "      <td>Tim Robbins, Morgan Freeman, Bob Gunton, Willi...</td>\n",
       "      <td>Two imprisoned men bond over a number of years...</td>\n",
       "    </tr>\n",
       "    <tr>\n",
       "      <td>1</td>\n",
       "      <td>The Godfather</td>\n",
       "      <td>Crime, Drama</td>\n",
       "      <td>Francis Ford Coppola</td>\n",
       "      <td>Marlon Brando, Al Pacino, James Caan, Richard ...</td>\n",
       "      <td>The aging patriarch of an organized crime dyna...</td>\n",
       "    </tr>\n",
       "    <tr>\n",
       "      <td>2</td>\n",
       "      <td>The Godfather: Part II</td>\n",
       "      <td>Crime, Drama</td>\n",
       "      <td>Francis Ford Coppola</td>\n",
       "      <td>Al Pacino, Robert Duvall, Diane Keaton, Robert...</td>\n",
       "      <td>The early life and career of Vito Corleone in ...</td>\n",
       "    </tr>\n",
       "    <tr>\n",
       "      <td>3</td>\n",
       "      <td>The Dark Knight</td>\n",
       "      <td>Action, Crime, Drama</td>\n",
       "      <td>Christopher Nolan</td>\n",
       "      <td>Christian Bale, Heath Ledger, Aaron Eckhart, M...</td>\n",
       "      <td>When the menace known as the Joker emerges fro...</td>\n",
       "    </tr>\n",
       "    <tr>\n",
       "      <td>4</td>\n",
       "      <td>12 Angry Men</td>\n",
       "      <td>Crime, Drama</td>\n",
       "      <td>Sidney Lumet</td>\n",
       "      <td>Martin Balsam, John Fiedler, Lee J. Cobb, E.G....</td>\n",
       "      <td>A jury holdout attempts to prevent a miscarria...</td>\n",
       "    </tr>\n",
       "  </tbody>\n",
       "</table>\n",
       "</div>"
      ],
      "text/plain": [
       "                      Title                 Genre              Director  \\\n",
       "0  The Shawshank Redemption          Crime, Drama        Frank Darabont   \n",
       "1             The Godfather          Crime, Drama  Francis Ford Coppola   \n",
       "2    The Godfather: Part II          Crime, Drama  Francis Ford Coppola   \n",
       "3           The Dark Knight  Action, Crime, Drama     Christopher Nolan   \n",
       "4              12 Angry Men          Crime, Drama          Sidney Lumet   \n",
       "\n",
       "                                              Actors  \\\n",
       "0  Tim Robbins, Morgan Freeman, Bob Gunton, Willi...   \n",
       "1  Marlon Brando, Al Pacino, James Caan, Richard ...   \n",
       "2  Al Pacino, Robert Duvall, Diane Keaton, Robert...   \n",
       "3  Christian Bale, Heath Ledger, Aaron Eckhart, M...   \n",
       "4  Martin Balsam, John Fiedler, Lee J. Cobb, E.G....   \n",
       "\n",
       "                                                Plot  \n",
       "0  Two imprisoned men bond over a number of years...  \n",
       "1  The aging patriarch of an organized crime dyna...  \n",
       "2  The early life and career of Vito Corleone in ...  \n",
       "3  When the menace known as the Joker emerges fro...  \n",
       "4  A jury holdout attempts to prevent a miscarria...  "
      ]
     },
     "execution_count": 239,
     "metadata": {},
     "output_type": "execute_result"
    }
   ],
   "source": [
    "#Printing the shape\n",
    "print('Dataset Dimension:',dataset.shape)\n",
    "dataset.head()"
   ]
  },
  {
   "cell_type": "markdown",
   "metadata": {},
   "source": [
    "### Data Cleaning\n",
    "---"
   ]
  },
  {
   "cell_type": "code",
   "execution_count": 240,
   "metadata": {},
   "outputs": [],
   "source": [
    "#Lowercasing the strings\n",
    "dataset['Genre'] = dataset['Genre'].str.lower()\n",
    "dataset['Director'] = dataset['Director'].str.lower()\n",
    "dataset['Actors'] = dataset['Actors'].str.lower()\n",
    "dataset['Plot'] = dataset['Plot'].str.lower()\n",
    "\n",
    "#Merging firstname and lastname of direction to avoid confusion\n",
    "dataset['Director'] = dataset['Director'].str.replace(' ','')"
   ]
  },
  {
   "cell_type": "code",
   "execution_count": 257,
   "metadata": {},
   "outputs": [
    {
     "data": {
      "text/html": [
       "<div>\n",
       "<style scoped>\n",
       "    .dataframe tbody tr th:only-of-type {\n",
       "        vertical-align: middle;\n",
       "    }\n",
       "\n",
       "    .dataframe tbody tr th {\n",
       "        vertical-align: top;\n",
       "    }\n",
       "\n",
       "    .dataframe thead th {\n",
       "        text-align: right;\n",
       "    }\n",
       "</style>\n",
       "<table border=\"1\" class=\"dataframe\">\n",
       "  <thead>\n",
       "    <tr style=\"text-align: right;\">\n",
       "      <th></th>\n",
       "      <th>Bag of keywords</th>\n",
       "    </tr>\n",
       "    <tr>\n",
       "      <th>Title</th>\n",
       "      <th></th>\n",
       "    </tr>\n",
       "  </thead>\n",
       "  <tbody>\n",
       "    <tr>\n",
       "      <td>Interstellar</td>\n",
       "      <td>adventure  drama  sci-fi christophernolan elle...</td>\n",
       "    </tr>\n",
       "    <tr>\n",
       "      <td>The Usual Suspects</td>\n",
       "      <td>crime  drama  mystery bryansinger stephenbaldw...</td>\n",
       "    </tr>\n",
       "    <tr>\n",
       "      <td>The Wild Bunch</td>\n",
       "      <td>action  adventure  western sampeckinpah willia...</td>\n",
       "    </tr>\n",
       "    <tr>\n",
       "      <td>Alien</td>\n",
       "      <td>horror  sci-fi ridleyscott tomskerritt sigourn...</td>\n",
       "    </tr>\n",
       "    <tr>\n",
       "      <td>Aliens</td>\n",
       "      <td>action  adventure  sci-fi jamescameron sigourn...</td>\n",
       "    </tr>\n",
       "  </tbody>\n",
       "</table>\n",
       "</div>"
      ],
      "text/plain": [
       "                                                      Bag of keywords\n",
       "Title                                                                \n",
       "Interstellar        adventure  drama  sci-fi christophernolan elle...\n",
       "The Usual Suspects  crime  drama  mystery bryansinger stephenbaldw...\n",
       "The Wild Bunch      action  adventure  western sampeckinpah willia...\n",
       "Alien               horror  sci-fi ridleyscott tomskerritt sigourn...\n",
       "Aliens              action  adventure  sci-fi jamescameron sigourn..."
      ]
     },
     "execution_count": 257,
     "metadata": {},
     "output_type": "execute_result"
    }
   ],
   "source": [
    "#Displaying 5 rows\n",
    "dataset.sample(5)"
   ]
  },
  {
   "cell_type": "code",
   "execution_count": 242,
   "metadata": {},
   "outputs": [],
   "source": [
    "#Extracting important word from plot\n",
    "def Extract_Keywords(plot_sent):\n",
    "    r = Rake() #Instantiating the object\n",
    "    r.extract_keywords_from_text(plot_sent) #getting the keyword from the text\n",
    "    keyword_dict_score = r.get_word_degrees() #Extracting the word and frequencies\n",
    "    return keyword_dict_score\n",
    "\n",
    "dataset['plot_keywords'] = dataset['Plot'].apply(lambda x: list(Extract_Keywords(x).keys()))\n",
    "dataset['plot_keywords'] = dataset['plot_keywords'].apply(lambda x: ' '.join(x))\n",
    "dataset['Genre'] = dataset['Genre'].str.replace(',',' ') "
   ]
  },
  {
   "cell_type": "code",
   "execution_count": 258,
   "metadata": {},
   "outputs": [
    {
     "data": {
      "text/html": [
       "<div>\n",
       "<style scoped>\n",
       "    .dataframe tbody tr th:only-of-type {\n",
       "        vertical-align: middle;\n",
       "    }\n",
       "\n",
       "    .dataframe tbody tr th {\n",
       "        vertical-align: top;\n",
       "    }\n",
       "\n",
       "    .dataframe thead th {\n",
       "        text-align: right;\n",
       "    }\n",
       "</style>\n",
       "<table border=\"1\" class=\"dataframe\">\n",
       "  <thead>\n",
       "    <tr style=\"text-align: right;\">\n",
       "      <th></th>\n",
       "      <th>Bag of keywords</th>\n",
       "    </tr>\n",
       "    <tr>\n",
       "      <th>Title</th>\n",
       "      <th></th>\n",
       "    </tr>\n",
       "  </thead>\n",
       "  <tbody>\n",
       "    <tr>\n",
       "      <td>Good Will Hunting</td>\n",
       "      <td>drama gusvansant mattdamon benaffleck stellans...</td>\n",
       "    </tr>\n",
       "    <tr>\n",
       "      <td>The Sting</td>\n",
       "      <td>comedy  crime  drama georgeroyhill paulnewman ...</td>\n",
       "    </tr>\n",
       "    <tr>\n",
       "      <td>Monty Python and the Holy Grail</td>\n",
       "      <td>adventure  comedy  fantasy terrygilliam,terryj...</td>\n",
       "    </tr>\n",
       "    <tr>\n",
       "      <td>Amadeus</td>\n",
       "      <td>biography  drama  history milosforman f.murray...</td>\n",
       "    </tr>\n",
       "    <tr>\n",
       "      <td>One Flew Over the Cuckoo's Nest</td>\n",
       "      <td>drama milosforman michaelberryman peterbrocco ...</td>\n",
       "    </tr>\n",
       "  </tbody>\n",
       "</table>\n",
       "</div>"
      ],
      "text/plain": [
       "                                                                   Bag of keywords\n",
       "Title                                                                             \n",
       "Good Will Hunting                drama gusvansant mattdamon benaffleck stellans...\n",
       "The Sting                        comedy  crime  drama georgeroyhill paulnewman ...\n",
       "Monty Python and the Holy Grail  adventure  comedy  fantasy terrygilliam,terryj...\n",
       "Amadeus                          biography  drama  history milosforman f.murray...\n",
       "One Flew Over the Cuckoo's Nest  drama milosforman michaelberryman peterbrocco ..."
      ]
     },
     "execution_count": 258,
     "metadata": {},
     "output_type": "execute_result"
    }
   ],
   "source": [
    "dataset.sample(5)"
   ]
  },
  {
   "cell_type": "code",
   "execution_count": 244,
   "metadata": {},
   "outputs": [],
   "source": [
    "#Merging the actor firstname and lastname\n",
    "def Actor_Name_Merge(name):\n",
    "    name_join = name.replace(' ','')\n",
    "    return name_join.replace(',',' ')\n",
    "\n",
    "dataset['Actors'] = dataset['Actors'].apply(lambda x: Actor_Name_Merge(x))"
   ]
  },
  {
   "cell_type": "code",
   "execution_count": 259,
   "metadata": {
    "scrolled": true
   },
   "outputs": [
    {
     "data": {
      "text/html": [
       "<div>\n",
       "<style scoped>\n",
       "    .dataframe tbody tr th:only-of-type {\n",
       "        vertical-align: middle;\n",
       "    }\n",
       "\n",
       "    .dataframe tbody tr th {\n",
       "        vertical-align: top;\n",
       "    }\n",
       "\n",
       "    .dataframe thead th {\n",
       "        text-align: right;\n",
       "    }\n",
       "</style>\n",
       "<table border=\"1\" class=\"dataframe\">\n",
       "  <thead>\n",
       "    <tr style=\"text-align: right;\">\n",
       "      <th></th>\n",
       "      <th>Bag of keywords</th>\n",
       "    </tr>\n",
       "    <tr>\n",
       "      <th>Title</th>\n",
       "      <th></th>\n",
       "    </tr>\n",
       "  </thead>\n",
       "  <tbody>\n",
       "    <tr>\n",
       "      <td>Eternal Sunshine of the Spotless Mind</td>\n",
       "      <td>drama  romance  sci-fi michelgondry jimcarrey ...</td>\n",
       "    </tr>\n",
       "    <tr>\n",
       "      <td>12 Angry Men</td>\n",
       "      <td>crime  drama sidneylumet martinbalsam johnfied...</td>\n",
       "    </tr>\n",
       "    <tr>\n",
       "      <td>The Lion King</td>\n",
       "      <td>animation  adventure  drama rogerallers,robmin...</td>\n",
       "    </tr>\n",
       "    <tr>\n",
       "      <td>12 Years a Slave</td>\n",
       "      <td>biography  drama  history stevemcqueen chiwete...</td>\n",
       "    </tr>\n",
       "    <tr>\n",
       "      <td>Rio Bravo</td>\n",
       "      <td>action  drama  western howardhawks johnwayne d...</td>\n",
       "    </tr>\n",
       "  </tbody>\n",
       "</table>\n",
       "</div>"
      ],
      "text/plain": [
       "                                                                         Bag of keywords\n",
       "Title                                                                                   \n",
       "Eternal Sunshine of the Spotless Mind  drama  romance  sci-fi michelgondry jimcarrey ...\n",
       "12 Angry Men                           crime  drama sidneylumet martinbalsam johnfied...\n",
       "The Lion King                          animation  adventure  drama rogerallers,robmin...\n",
       "12 Years a Slave                       biography  drama  history stevemcqueen chiwete...\n",
       "Rio Bravo                              action  drama  western howardhawks johnwayne d..."
      ]
     },
     "execution_count": 259,
     "metadata": {},
     "output_type": "execute_result"
    }
   ],
   "source": [
    "dataset.sample(5)"
   ]
  },
  {
   "cell_type": "code",
   "execution_count": 246,
   "metadata": {},
   "outputs": [],
   "source": [
    "#joining genre, director, actors and plot_keywords\n",
    "dataset['Bag of keywords'] = dataset['Genre']+' '+dataset['Director']+' '+dataset['Actors']+' '+dataset['plot_keywords']\n",
    "#setting title as the index\n",
    "dataset.set_index(['Title'],inplace=True)\n",
    "#dropping the columns not required\n",
    "dataset.drop(axis=1,columns=['Genre','Director','Actors','Plot','plot_keywords'],inplace=True)"
   ]
  },
  {
   "cell_type": "markdown",
   "metadata": {},
   "source": [
    "### Creating BOW & Similarity Matrix\n",
    "---"
   ]
  },
  {
   "cell_type": "code",
   "execution_count": 248,
   "metadata": {},
   "outputs": [],
   "source": [
    "#creating count matrix using bigram\n",
    "count_vect = CountVectorizer(ngram_range=(1, 2),stop_words=stopwords.words('English'))\n",
    "count_matrix = count_vect.fit_transform(dataset['Bag of keywords'])"
   ]
  },
  {
   "cell_type": "code",
   "execution_count": 249,
   "metadata": {},
   "outputs": [
    {
     "data": {
      "text/plain": [
       "array([[1.        , 0.1025641 , 0.0915018 , ..., 0.02564103, 0.02564103,\n",
       "        0.0270666 ],\n",
       "       [0.1025641 , 1.        , 0.22875451, ..., 0.02564103, 0.02564103,\n",
       "        0.0270666 ],\n",
       "       [0.0915018 , 0.22875451, 1.        , ..., 0.02287545, 0.02287545,\n",
       "        0.02414726],\n",
       "       ...,\n",
       "       [0.02564103, 0.02564103, 0.02287545, ..., 1.        , 0.02564103,\n",
       "        0.0270666 ],\n",
       "       [0.02564103, 0.02564103, 0.02287545, ..., 0.02564103, 1.        ,\n",
       "        0.0270666 ],\n",
       "       [0.0270666 , 0.0270666 , 0.02414726, ..., 0.0270666 , 0.0270666 ,\n",
       "        1.        ]])"
      ]
     },
     "execution_count": 249,
     "metadata": {},
     "output_type": "execute_result"
    }
   ],
   "source": [
    "#creating similarity matrix\n",
    "cosine_matrix = cosine_similarity(count_matrix,count_matrix)\n",
    "cosine_matrix"
   ]
  },
  {
   "cell_type": "code",
   "execution_count": 250,
   "metadata": {},
   "outputs": [],
   "source": [
    "#Extracting all the indexes\n",
    "indexes = pd.Series(dataset.index)"
   ]
  },
  {
   "cell_type": "code",
   "execution_count": 251,
   "metadata": {},
   "outputs": [
    {
     "name": "stdout",
     "output_type": "stream",
     "text": [
      "0    The Shawshank Redemption\n",
      "1               The Godfather\n",
      "2      The Godfather: Part II\n",
      "3             The Dark Knight\n",
      "4                12 Angry Men\n",
      "Name: Title, dtype: object\n"
     ]
    }
   ],
   "source": [
    "print(indexes.head())"
   ]
  },
  {
   "cell_type": "markdown",
   "metadata": {},
   "source": [
    "### Recommending Movies\n",
    "---"
   ]
  },
  {
   "cell_type": "code",
   "execution_count": 252,
   "metadata": {},
   "outputs": [],
   "source": [
    "def Recommend_Movies(title,cosine_matrix=cosine_matrix):\n",
    "    rec = []\n",
    "    idx = indexes[indexes==title].index[0]\n",
    "    top_10_indexes = list(pd.Series(cosine_matrix[idx]).sort_values(ascending=False)[:6].index)\n",
    "    for index in top_10_indexes:\n",
    "        rec.append(indexes[index])\n",
    "    return rec"
   ]
  },
  {
   "cell_type": "code",
   "execution_count": 270,
   "metadata": {},
   "outputs": [
    {
     "name": "stdout",
     "output_type": "stream",
     "text": [
      "['The Dark Knight', 'Batman Begins', 'The Dark Knight Rises', 'The Prestige', 'The Green Mile', 'Witness for the Prosecution']\n"
     ]
    }
   ],
   "source": [
    "try:\n",
    "    print(Recommend_Movies('the dark knight'.title(),cosine_matrix))\n",
    "except:\n",
    "    print('Sorry! Movie is not found')"
   ]
  },
  {
   "cell_type": "code",
   "execution_count": null,
   "metadata": {},
   "outputs": [],
   "source": []
  }
 ],
 "metadata": {
  "kernelspec": {
   "display_name": "Python 3",
   "language": "python",
   "name": "python3"
  },
  "language_info": {
   "codemirror_mode": {
    "name": "ipython",
    "version": 3
   },
   "file_extension": ".py",
   "mimetype": "text/x-python",
   "name": "python",
   "nbconvert_exporter": "python",
   "pygments_lexer": "ipython3",
   "version": "3.7.4"
  }
 },
 "nbformat": 4,
 "nbformat_minor": 2
}
